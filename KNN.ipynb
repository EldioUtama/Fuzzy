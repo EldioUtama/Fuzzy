{
  "nbformat": 4,
  "nbformat_minor": 0,
  "metadata": {
    "colab": {
      "provenance": [],
      "authorship_tag": "ABX9TyMs132MxNBoO9uPIFwDv4dg",
      "include_colab_link": true
    },
    "kernelspec": {
      "name": "python3",
      "display_name": "Python 3"
    },
    "language_info": {
      "name": "python"
    }
  },
  "cells": [
    {
      "cell_type": "markdown",
      "metadata": {
        "id": "view-in-github",
        "colab_type": "text"
      },
      "source": [
        "<a href=\"https://colab.research.google.com/github/EldioUtama/Fuzzy/blob/main/KNN.ipynb\" target=\"_parent\"><img src=\"https://colab.research.google.com/assets/colab-badge.svg\" alt=\"Open In Colab\"/></a>"
      ]
    },
    {
      "cell_type": "code",
      "execution_count": null,
      "metadata": {
        "colab": {
          "base_uri": "https://localhost:8080/"
        },
        "id": "xj4eXkKnf11c",
        "outputId": "ab3440d0-69b7-411e-f3da-0f5093820b2e"
      },
      "outputs": [
        {
          "output_type": "stream",
          "name": "stdout",
          "text": [
            "Accuracy: 0.875\n",
            "              precision    recall  f1-score   support\n",
            "\n",
            "     Berdiri       0.82      0.96      0.89        80\n",
            "       Duduk       0.95      0.79      0.86        80\n",
            "\n",
            "    accuracy                           0.88       160\n",
            "   macro avg       0.89      0.88      0.87       160\n",
            "weighted avg       0.89      0.88      0.87       160\n",
            "\n",
            "[[77  3]\n",
            " [17 63]]\n"
          ]
        }
      ],
      "source": [
        "import pandas as pd\n",
        "from sklearn.model_selection import train_test_split\n",
        "from sklearn.neighbors import KNeighborsClassifier\n",
        "from sklearn.metrics import accuracy_score, classification_report, confusion_matrix\n",
        "\n",
        "# Membaca dataset\n",
        "df = pd.read_csv('Dataset duduk berdiri.csv')\n",
        "\n",
        "# Mengelompokkan fitur dan target\n",
        "X = df[['ax','ay','az']]\n",
        "y = df['Gerakan']\n",
        "\n",
        "# Pisah latih dan uji\n",
        "X_train, X_test, y_train, y_test = train_test_split(X, y, test_size=0.4, random_state=0)\n",
        "\n",
        "# Buat model KNN\n",
        "knn = KNeighborsClassifier(n_neighbors=5)\n",
        "\n",
        "# Pelatihan model\n",
        "knn.fit(X_train, y_train)\n",
        "\n",
        "# Prediksi\n",
        "y_pred = knn.predict(X_test)\n",
        "\n",
        "# Evaluasi kinerja\n",
        "print('Accuracy: {}'.format(accuracy_score(y_test, y_pred)))\n",
        "print(classification_report(y_test, y_pred))\n",
        "print(confusion_matrix(y_test, y_pred))"
      ]
    }
  ]
}
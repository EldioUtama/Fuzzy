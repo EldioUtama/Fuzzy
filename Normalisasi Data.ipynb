{
  "nbformat": 4,
  "nbformat_minor": 0,
  "metadata": {
    "colab": {
      "provenance": [],
      "authorship_tag": "ABX9TyOycm00oSmQibt0DYmu/j3s",
      "include_colab_link": true
    },
    "kernelspec": {
      "name": "python3",
      "display_name": "Python 3"
    },
    "language_info": {
      "name": "python"
    }
  },
  "cells": [
    {
      "cell_type": "markdown",
      "metadata": {
        "id": "view-in-github",
        "colab_type": "text"
      },
      "source": [
        "<a href=\"https://colab.research.google.com/github/EldioUtama/Fuzzy/blob/main/Normalisasi%20Data.ipynb\" target=\"_parent\"><img src=\"https://colab.research.google.com/assets/colab-badge.svg\" alt=\"Open In Colab\"/></a>"
      ]
    },
    {
      "cell_type": "code",
      "execution_count": 4,
      "metadata": {
        "id": "a3pkVpj4yqVR"
      },
      "outputs": [],
      "source": [
        "import numpy as np\n",
        "import matplotlib.pyplot as plt\n",
        "import pandas as pd\n"
      ]
    },
    {
      "cell_type": "code",
      "source": [
        "dataset = pd.read_csv('/content/Dataset.csv')\n",
        "print(dataset)\n"
      ],
      "metadata": {
        "colab": {
          "base_uri": "https://localhost:8080/"
        },
        "id": "57j5NDYt1zZ9",
        "outputId": "1b238116-602b-4650-b596-2ab7f10c5270"
      },
      "execution_count": 133,
      "outputs": [
        {
          "output_type": "stream",
          "name": "stdout",
          "text": [
            "  Data Duduk  Data beridiri hasil\n",
            "0      Duduk           0.44   yes\n",
            "1      Duduk           0.59   yes\n",
            "2      Duduk           0.49   yes\n",
            "3      Duduk           0.39   yes\n",
            "4      Duduk           0.38   yes\n",
            "5   Beridiri           0.15   yes\n",
            "6   Beridiri           0.18   yes\n",
            "7   Beridiri           0.09   yes\n",
            "8   Beridiri           0.05   yes\n",
            "9   Beridiri           0.06   yes\n"
          ]
        }
      ]
    },
    {
      "cell_type": "code",
      "source": [
        "x = dataset.iloc[ :, :-1 ].values\n",
        "y = dataset.iloc[ :, -1 ].values\n"
      ],
      "metadata": {
        "id": "_3aAY_AXz9Bh"
      },
      "execution_count": 137,
      "outputs": []
    },
    {
      "cell_type": "code",
      "source": [
        "print(x)"
      ],
      "metadata": {
        "colab": {
          "base_uri": "https://localhost:8080/"
        },
        "id": "RghQHaZ3-Q4G",
        "outputId": "9827319e-ed5c-47ea-99c8-7eadf2deb6ec"
      },
      "execution_count": 141,
      "outputs": [
        {
          "output_type": "stream",
          "name": "stdout",
          "text": [
            "[['Duduk' 0.44]\n",
            " ['Duduk' 0.59]\n",
            " ['Duduk' 0.49]\n",
            " ['Duduk' 0.39]\n",
            " ['Duduk' 0.38]\n",
            " ['Beridiri' 0.15]\n",
            " ['Beridiri' 0.18]\n",
            " ['Beridiri' 0.09]\n",
            " ['Beridiri' 0.05]\n",
            " ['Beridiri' 0.06]]\n"
          ]
        }
      ]
    },
    {
      "cell_type": "code",
      "source": [
        "print(y)"
      ],
      "metadata": {
        "colab": {
          "base_uri": "https://localhost:8080/"
        },
        "id": "H2M2yZl64luI",
        "outputId": "c309c1e7-3c55-4fc0-801f-940e7c234f3c"
      },
      "execution_count": 140,
      "outputs": [
        {
          "output_type": "stream",
          "name": "stdout",
          "text": [
            "['yes' 'yes' 'yes' 'yes' 'yes' 'yes' 'yes' 'yes' 'yes' 'yes']\n"
          ]
        }
      ]
    },
    {
      "cell_type": "code",
      "source": [],
      "metadata": {
        "colab": {
          "base_uri": "https://localhost:8080/"
        },
        "id": "IJ7h1eUO4rMd",
        "outputId": "343ef915-a4bd-401e-f941-8d422f2e3725"
      },
      "execution_count": 138,
      "outputs": [
        {
          "output_type": "stream",
          "name": "stdout",
          "text": [
            "['yes' 'yes' 'yes' 'yes' 'yes' 'yes' 'yes' 'yes' 'yes' 'yes']\n"
          ]
        }
      ]
    }
  ]
}